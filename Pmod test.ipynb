{
 "cells": [
  {
   "cell_type": "code",
   "execution_count": 103,
   "metadata": {},
   "outputs": [
    {
     "name": "stderr",
     "output_type": "stream",
     "text": [
      "/usr/local/lib/python3.6/dist-packages/pynq/overlay.py:299: UserWarning: Users will not get PARAMETERS / REGISTERS information through TCL files. HWH file is recommended.\n",
      "  warnings.warn(message, UserWarning)\n"
     ]
    }
   ],
   "source": [
    "from pynq import Overlay\n",
    "ol = Overlay(\"./pmod.bit\")"
   ]
  },
  {
   "cell_type": "code",
   "execution_count": 104,
   "metadata": {
    "scrolled": true
   },
   "outputs": [
    {
     "data": {
      "text/plain": [
       "{'axi_gpio_0': {'addr_range': 65536,\n",
       "  'driver': pynq.lib.axigpio.AxiGPIO,\n",
       "  'fullpath': 'axi_gpio_0',\n",
       "  'gpio': {},\n",
       "  'interrupts': {},\n",
       "  'mem_id': 'SEG_axi_gpio_0_Reg',\n",
       "  'phys_addr': 1092681728,\n",
       "  'state': None,\n",
       "  'type': 'xilinx.com:ip:axi_gpio:2.0'}}"
      ]
     },
     "execution_count": 104,
     "metadata": {},
     "output_type": "execute_result"
    }
   ],
   "source": [
    "ol.ip_dict"
   ]
  },
  {
   "cell_type": "code",
   "execution_count": 105,
   "metadata": {},
   "outputs": [
    {
     "data": {
      "text/plain": [
       "'0x41210000'"
      ]
     },
     "execution_count": 105,
     "metadata": {},
     "output_type": "execute_result"
    }
   ],
   "source": [
    "hex(ol.ip_dict[\"axi_gpio_0\"][\"phys_addr\"])"
   ]
  },
  {
   "cell_type": "code",
   "execution_count": 106,
   "metadata": {},
   "outputs": [],
   "source": [
    "from pynq import MMIO\n",
    "axi_gpio_base_addr = ol.ip_dict[\"axi_gpio_0\"][\"phys_addr\"]\n",
    "addr_range = ol.ip_dict[\"axi_gpio_0\"][\"addr_range\"]\n",
    "gpio_mmio = MMIO(ol.ip_dict['axi_gpio_0']['phys_addr'], 4)\n",
    "\n",
    "\n",
    "\n",
    "# Turn on the GPIO pin (output '1')\n",
    "gpio_mmio.write(0, 1)\n",
    "\n"
   ]
  },
  {
   "cell_type": "code",
   "execution_count": 107,
   "metadata": {},
   "outputs": [],
   "source": [
    "gpio_mmio.write(0, 0)"
   ]
  },
  {
   "cell_type": "code",
   "execution_count": 87,
   "metadata": {},
   "outputs": [
    {
     "name": "stderr",
     "output_type": "stream",
     "text": [
      "/usr/local/lib/python3.6/dist-packages/pynq/overlay.py:299: UserWarning: Users will not get PARAMETERS / REGISTERS information through TCL files. HWH file is recommended.\n",
      "  warnings.warn(message, UserWarning)\n"
     ]
    }
   ],
   "source": [
    "from pynq import Overlay\n",
    "ol = Overlay(\"./gpio.bit\")"
   ]
  },
  {
   "cell_type": "code",
   "execution_count": 88,
   "metadata": {
    "scrolled": true
   },
   "outputs": [
    {
     "data": {
      "text/plain": [
       "{'LEDs': {'addr_range': 65536,\n",
       "  'driver': pynq.lib.axigpio.AxiGPIO,\n",
       "  'fullpath': 'LEDs',\n",
       "  'gpio': {},\n",
       "  'interrupts': {},\n",
       "  'mem_id': 'SEG_axi_gpio_1_Reg',\n",
       "  'phys_addr': 1092616192,\n",
       "  'state': None,\n",
       "  'type': 'xilinx.com:ip:axi_gpio:2.0'},\n",
       " 'Pmod_JA1': {'addr_range': 65536,\n",
       "  'driver': pynq.lib.axigpio.AxiGPIO,\n",
       "  'fullpath': 'Pmod_JA1',\n",
       "  'gpio': {},\n",
       "  'interrupts': {},\n",
       "  'mem_id': 'SEG_axi_gpio_0_Reg',\n",
       "  'phys_addr': 1092681728,\n",
       "  'state': None,\n",
       "  'type': 'xilinx.com:ip:axi_gpio:2.0'}}"
      ]
     },
     "execution_count": 88,
     "metadata": {},
     "output_type": "execute_result"
    }
   ],
   "source": [
    "ol.ip_dict"
   ]
  },
  {
   "cell_type": "code",
   "execution_count": 101,
   "metadata": {},
   "outputs": [],
   "source": [
    "from pynq import MMIO\n",
    "\n",
    "pmod_base_addr = ol.ip_dict[\"Pmod_JA1\"][\"phys_addr\"]\n",
    "led_base_addr = ol.ip_dict[\"LEDs\"][\"phys_addr\"]\n",
    "addr_range = 65536\n",
    "\n",
    "pmod = MMIO(pmod_base_addr, addr_range)\n",
    "led = MMIO(led_base_addr, addr_range)\n",
    "\n",
    "pmod.write(0, 1)\n",
    "led.write(0,0xFF)"
   ]
  },
  {
   "cell_type": "code",
   "execution_count": 102,
   "metadata": {},
   "outputs": [],
   "source": [
    "pmod.write(0, 0)\n",
    "led.write(0,0)"
   ]
  }
 ],
 "metadata": {
  "kernelspec": {
   "display_name": "Python 3",
   "language": "python",
   "name": "python3"
  },
  "language_info": {
   "codemirror_mode": {
    "name": "ipython",
    "version": 3
   },
   "file_extension": ".py",
   "mimetype": "text/x-python",
   "name": "python",
   "nbconvert_exporter": "python",
   "pygments_lexer": "ipython3",
   "version": "3.6.5"
  }
 },
 "nbformat": 4,
 "nbformat_minor": 2
}
