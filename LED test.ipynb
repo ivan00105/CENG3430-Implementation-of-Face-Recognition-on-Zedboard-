{
 "cells": [
  {
   "cell_type": "markdown",
   "metadata": {},
   "source": [
    "## Load the Overlay"
   ]
  },
  {
   "cell_type": "code",
   "execution_count": 80,
   "metadata": {
    "scrolled": true
   },
   "outputs": [
    {
     "name": "stderr",
     "output_type": "stream",
     "text": [
      "/usr/local/lib/python3.6/dist-packages/pynq/overlay.py:299: UserWarning: Users will not get PARAMETERS / REGISTERS information through TCL files. HWH file is recommended.\n",
      "  warnings.warn(message, UserWarning)\n"
     ]
    }
   ],
   "source": [
    "from pynq import Overlay\n",
    "ol_led = Overlay(\"./gpio.bit\")"
   ]
  },
  {
   "cell_type": "markdown",
   "metadata": {},
   "source": [
    "## IP description"
   ]
  },
  {
   "cell_type": "code",
   "execution_count": 84,
   "metadata": {
    "scrolled": false
   },
   "outputs": [
    {
     "data": {
      "text/plain": [
       "{'LEDs': {'addr_range': 65536,\n",
       "  'driver': pynq.lib.axigpio.AxiGPIO,\n",
       "  'fullpath': 'LEDs',\n",
       "  'gpio': {},\n",
       "  'interrupts': {},\n",
       "  'mem_id': 'SEG_axi_gpio_1_Reg',\n",
       "  'phys_addr': 1092616192,\n",
       "  'state': None,\n",
       "  'type': 'xilinx.com:ip:axi_gpio:2.0'},\n",
       " 'Pmod_JA1': {'addr_range': 65536,\n",
       "  'driver': pynq.lib.axigpio.AxiGPIO,\n",
       "  'fullpath': 'Pmod_JA1',\n",
       "  'gpio': {},\n",
       "  'interrupts': {},\n",
       "  'mem_id': 'SEG_axi_gpio_0_Reg',\n",
       "  'phys_addr': 1092681728,\n",
       "  'state': None,\n",
       "  'type': 'xilinx.com:ip:axi_gpio:2.0'}}"
      ]
     },
     "execution_count": 84,
     "metadata": {},
     "output_type": "execute_result"
    }
   ],
   "source": [
    "ol_led.ip_dict"
   ]
  },
  {
   "cell_type": "code",
   "execution_count": 85,
   "metadata": {
    "scrolled": true
   },
   "outputs": [
    {
     "data": {
      "text/plain": [
       "'0x41200000'"
      ]
     },
     "execution_count": 85,
     "metadata": {},
     "output_type": "execute_result"
    }
   ],
   "source": [
    "hex(ol_led.ip_dict[\"LEDs\"][\"phys_addr\"])"
   ]
  },
  {
   "cell_type": "markdown",
   "metadata": {},
   "source": [
    "## Turn on the LEDs"
   ]
  },
  {
   "cell_type": "code",
   "execution_count": 86,
   "metadata": {},
   "outputs": [],
   "source": [
    "from pynq import MMIO\n",
    "\n",
    "# AXI GPIO base address and range\n",
    "axi_gpio_base_addr = ol_led.ip_dict[\"LEDs\"][\"phys_addr\"]\n",
    "addr_range = ol_led.ip_dict[\"LEDs\"][\"addr_range\"]\n",
    "\n",
    "# Register offsets\n",
    "GPIO_DATA = 0x0000\n",
    "GPIO_TRI = 0x0004\n",
    "\n",
    "# Initialize MMIO\n",
    "LED = MMIO(axi_gpio_base_addr, addr_range)\n",
    "\n",
    "# Configure the pins as outputs\n",
    "# gpio.write(GPIO_TRI, 0x00000000)\n",
    "\n",
    "# Turn on all LEDs(binary: 11111111)\n",
    "LED.write(GPIO_DATA, 0xFF)"
   ]
  },
  {
   "cell_type": "markdown",
   "metadata": {},
   "source": [
    "## Turn off the LEDs"
   ]
  },
  {
   "cell_type": "code",
   "execution_count": 87,
   "metadata": {},
   "outputs": [],
   "source": [
    "# Turn off all LEDs\n",
    "LED.write(GPIO_DATA, 0x00)"
   ]
  },
  {
   "cell_type": "code",
   "execution_count": null,
   "metadata": {},
   "outputs": [],
   "source": []
  }
 ],
 "metadata": {
  "kernelspec": {
   "display_name": "Python 3",
   "language": "python",
   "name": "python3"
  },
  "language_info": {
   "codemirror_mode": {
    "name": "ipython",
    "version": 3
   },
   "file_extension": ".py",
   "mimetype": "text/x-python",
   "name": "python",
   "nbconvert_exporter": "python",
   "pygments_lexer": "ipython3",
   "version": "3.6.5"
  }
 },
 "nbformat": 4,
 "nbformat_minor": 2
}
